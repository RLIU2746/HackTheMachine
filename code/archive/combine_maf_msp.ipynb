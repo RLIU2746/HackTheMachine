{
 "cells": [
  {
   "cell_type": "code",
   "execution_count": 1,
   "metadata": {},
   "outputs": [],
   "source": [
    "import pandas as pd"
   ]
  },
  {
   "cell_type": "code",
   "execution_count": null,
   "metadata": {},
   "outputs": [],
   "source": [
    "msp_data = pd.read_csv(\"../clean/mu_clean.csv\",index_col=0)\n",
    "\n",
    "msp_data['Fault Date'] = pd.to_datetime(msp_data['ZULU_Time'].str.split(\" \", n = 2, expand = True)[1])\n",
    "\n",
    "msp_data['Fault Time'] = pd.to_datetime(msp_data['ZULU_Time'].str.split(\" \", n = 2, expand = True)[2], format = '%H:%M:%S:%f').dt.time\n",
    "\n",
    "maf_data = pd.read_csv(\"../clean/maf_clean.csv\", index_col = 0)\n",
    "\n",
    "maf_data['Received Date'] = pd.to_datetime(maf_data['Received Date'])\n",
    "\n",
    "maf_data['Completion Date'] = pd.to_datetime(maf_data['Completion Date'])\n",
    "\n",
    "corrosion_actions = maf_data[maf_data['Corrosion']| maf_data['Bare Metal'] | maf_data['Corrosion Prevention Treatment']]\n",
    "\n",
    "corrosion_actions[\"action_month\"] = pd.DatetimeIndex(corrosion_actions['Completion Date']).month\n",
    "\n",
    "corrosion_actions[\"action_year\"] = pd.DatetimeIndex(corrosion_actions['Completion Date']).year\n",
    "\n",
    "msp_data['action_year'] = pd.DatetimeIndex(msp_data['Fault Date']).year\n",
    "\n",
    "combined_data = corrosion_actions.merge(msp_data[['Aircraft', 'action_year', 'MSP', 'Flight_Mode', 'Fault Date']], how = 'left', on = ['Aircraft', 'action_year'])\n",
    "\n",
    "combined_data['before_window'] = combined_data['Completion Date'] - pd.DateOffset(months = 1)\n",
    "\n",
    "combined_data['after_window'] = combined_data['Completion Date'] + pd.DateOffset(months = 1)\n",
    "\n",
    "combined_data = combined_data[(combined_data['Fault Date'] > combined_data['before_window']) & (combined_data['Fault Date'] < combined_data['after_window'])]\n",
    "\n",
    "combined_data['Pre'] = combined_data['Fault Date'] < combined_data['Completion Date']\n",
    "\n",
    "combined_data = combined_data[(combined_data['Fault Date'] > combined_data['Completion Date']) | (combined_data['Fault Date'] < combined_data['Received Date'])]"
   ]
  }
 ],
 "metadata": {
  "kernelspec": {
   "display_name": "Python 3",
   "language": "python",
   "name": "python3"
  },
  "language_info": {
   "codemirror_mode": {
    "name": "ipython",
    "version": 3
   },
   "file_extension": ".py",
   "mimetype": "text/x-python",
   "name": "python",
   "nbconvert_exporter": "python",
   "pygments_lexer": "ipython3",
   "version": "3.7.3"
  }
 },
 "nbformat": 4,
 "nbformat_minor": 2
}
