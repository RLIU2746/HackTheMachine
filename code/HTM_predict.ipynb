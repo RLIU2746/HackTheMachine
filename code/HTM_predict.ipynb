{
 "cells": [
  {
   "cell_type": "code",
   "execution_count": 1,
   "metadata": {},
   "outputs": [],
   "source": [
    "import pandas as pd\n",
    "import numpy as np\n",
    "from datetime import datetime\n",
    "from io import BytesIO\n",
    "from zipfile import ZipFile\n",
    "from urllib.request import urlopen"
   ]
  },
  {
   "cell_type": "markdown",
   "metadata": {},
   "source": [
    "Reading in MSP data, using ZULU time variable to create a date and time stamp"
   ]
  },
  {
   "cell_type": "code",
   "execution_count": 2,
   "metadata": {},
   "outputs": [],
   "source": [
    "HTM_url = urlopen(\"https://www.hackthemachine.ai/s/HTM_MSP_Finalcsv.zip\")\n",
    "\n",
    "zipfile = ZipFile(BytesIO(HTM_url.read()))\n",
    "\n",
    "msp_data = pd.read_csv(zipfile.open('HTM_MSP_Final.csv'), parse_dates=True)\n",
    "\n",
    "msp_data.rename(columns = {'AIRCRAFT': 'Aircraft'}, inplace = True)\n",
    "\n",
    "msp_data['Fault Date'] = pd.to_datetime(msp_data['ZULU_TIME'].str.split(\" \", n = 2, expand = True)[1])"
   ]
  },
  {
   "cell_type": "code",
   "execution_count": 3,
   "metadata": {},
   "outputs": [
    {
     "data": {
      "text/html": [
       "<div>\n",
       "<style scoped>\n",
       "    .dataframe tbody tr th:only-of-type {\n",
       "        vertical-align: middle;\n",
       "    }\n",
       "\n",
       "    .dataframe tbody tr th {\n",
       "        vertical-align: top;\n",
       "    }\n",
       "\n",
       "    .dataframe thead th {\n",
       "        text-align: right;\n",
       "    }\n",
       "</style>\n",
       "<table border=\"1\" class=\"dataframe\">\n",
       "  <thead>\n",
       "    <tr style=\"text-align: right;\">\n",
       "      <th></th>\n",
       "      <th>Aircraft</th>\n",
       "      <th>SQUADRON</th>\n",
       "      <th>LOT</th>\n",
       "      <th>MSP</th>\n",
       "      <th>ZULU_TIME</th>\n",
       "      <th>FLIGHT_MODE</th>\n",
       "      <th>Fault Date</th>\n",
       "    </tr>\n",
       "  </thead>\n",
       "  <tbody>\n",
       "    <tr>\n",
       "      <th>0</th>\n",
       "      <td>1</td>\n",
       "      <td>HH</td>\n",
       "      <td>100</td>\n",
       "      <td>ZJMZTL</td>\n",
       "      <td>01-APR-2014 00:25:39:00</td>\n",
       "      <td>EngineTurn</td>\n",
       "      <td>2014-04-01</td>\n",
       "    </tr>\n",
       "    <tr>\n",
       "      <th>1</th>\n",
       "      <td>1</td>\n",
       "      <td>HH</td>\n",
       "      <td>100</td>\n",
       "      <td>JDJDMQ</td>\n",
       "      <td>01-APR-2014 00:25:39:00</td>\n",
       "      <td>EngineTurn</td>\n",
       "      <td>2014-04-01</td>\n",
       "    </tr>\n",
       "    <tr>\n",
       "      <th>2</th>\n",
       "      <td>1</td>\n",
       "      <td>HH</td>\n",
       "      <td>100</td>\n",
       "      <td>RTVBHP</td>\n",
       "      <td>01-APR-2014 00:25:39:00</td>\n",
       "      <td>EngineTurn</td>\n",
       "      <td>2014-04-01</td>\n",
       "    </tr>\n",
       "    <tr>\n",
       "      <th>3</th>\n",
       "      <td>1</td>\n",
       "      <td>HH</td>\n",
       "      <td>100</td>\n",
       "      <td>RTUXHP</td>\n",
       "      <td>01-APR-2014 00:25:39:00</td>\n",
       "      <td>EngineTurn</td>\n",
       "      <td>2014-04-01</td>\n",
       "    </tr>\n",
       "    <tr>\n",
       "      <th>4</th>\n",
       "      <td>1</td>\n",
       "      <td>HH</td>\n",
       "      <td>100</td>\n",
       "      <td>RTUXMZ</td>\n",
       "      <td>01-APR-2014 00:25:39:00</td>\n",
       "      <td>EngineTurn</td>\n",
       "      <td>2014-04-01</td>\n",
       "    </tr>\n",
       "  </tbody>\n",
       "</table>\n",
       "</div>"
      ],
      "text/plain": [
       "   Aircraft SQUADRON  LOT     MSP                 ZULU_TIME  FLIGHT_MODE  \\\n",
       "0         1       HH  100  ZJMZTL   01-APR-2014 00:25:39:00   EngineTurn   \n",
       "1         1       HH  100  JDJDMQ   01-APR-2014 00:25:39:00   EngineTurn   \n",
       "2         1       HH  100  RTVBHP   01-APR-2014 00:25:39:00   EngineTurn   \n",
       "3         1       HH  100  RTUXHP   01-APR-2014 00:25:39:00   EngineTurn   \n",
       "4         1       HH  100  RTUXMZ   01-APR-2014 00:25:39:00   EngineTurn   \n",
       "\n",
       "  Fault Date  \n",
       "0 2014-04-01  \n",
       "1 2014-04-01  \n",
       "2 2014-04-01  \n",
       "3 2014-04-01  \n",
       "4 2014-04-01  "
      ]
     },
     "execution_count": 3,
     "metadata": {},
     "output_type": "execute_result"
    }
   ],
   "source": [
    "msp_data.head()"
   ]
  },
  {
   "cell_type": "markdown",
   "metadata": {},
   "source": [
    "Reading in MAF data, converting recevied and completed dates to datetime objects"
   ]
  },
  {
   "cell_type": "code",
   "execution_count": 4,
   "metadata": {},
   "outputs": [],
   "source": [
    "HTM_url = urlopen(\"https://www.hackthemachine.ai/s/HtM_MAF-Data_Finalcsv.zip\")\n",
    "\n",
    "zipfile = ZipFile(BytesIO(HTM_url.read()))\n",
    "\n",
    "maf_data = pd.read_csv(zipfile.open('HtM_MAF Data_Final.csv'), parse_dates=['Received Date', 'Completion Date'])"
   ]
  },
  {
   "cell_type": "code",
   "execution_count": 5,
   "metadata": {},
   "outputs": [
    {
     "data": {
      "text/html": [
       "<div>\n",
       "<style scoped>\n",
       "    .dataframe tbody tr th:only-of-type {\n",
       "        vertical-align: middle;\n",
       "    }\n",
       "\n",
       "    .dataframe tbody tr th {\n",
       "        vertical-align: top;\n",
       "    }\n",
       "\n",
       "    .dataframe thead th {\n",
       "        text-align: right;\n",
       "    }\n",
       "</style>\n",
       "<table border=\"1\" class=\"dataframe\">\n",
       "  <thead>\n",
       "    <tr style=\"text-align: right;\">\n",
       "      <th></th>\n",
       "      <th>Job Code</th>\n",
       "      <th>Aircraft</th>\n",
       "      <th>Transaction Code</th>\n",
       "      <th>Malfunction Code</th>\n",
       "      <th>Action Taken Code</th>\n",
       "      <th>Description of Problem</th>\n",
       "      <th>Correction of Problem</th>\n",
       "      <th>Received Date</th>\n",
       "      <th>Completion Date</th>\n",
       "      <th>Corrosion</th>\n",
       "      <th>Bare Metal</th>\n",
       "      <th>Corrosion Prevention Treatment</th>\n",
       "      <th>Routine Maintenance</th>\n",
       "      <th>Unscheduled Maintenance</th>\n",
       "      <th>Mission-Related Maintenance</th>\n",
       "      <th>Failure</th>\n",
       "    </tr>\n",
       "  </thead>\n",
       "  <tbody>\n",
       "    <tr>\n",
       "      <th>0</th>\n",
       "      <td>0NGHY44WC8118573</td>\n",
       "      <td>42</td>\n",
       "      <td>11</td>\n",
       "      <td>0</td>\n",
       "      <td>N</td>\n",
       "      <td>Perform system or component checks</td>\n",
       "      <td>Completed the component or system test</td>\n",
       "      <td>2012-04-26</td>\n",
       "      <td>2014-02-27</td>\n",
       "      <td>NaN</td>\n",
       "      <td>NaN</td>\n",
       "      <td>NaN</td>\n",
       "      <td>Yes</td>\n",
       "      <td>NaN</td>\n",
       "      <td>NaN</td>\n",
       "      <td>NaN</td>\n",
       "    </tr>\n",
       "    <tr>\n",
       "      <th>1</th>\n",
       "      <td>0NGHY45WC8118591</td>\n",
       "      <td>42</td>\n",
       "      <td>11</td>\n",
       "      <td>0</td>\n",
       "      <td>N</td>\n",
       "      <td>Perform system or component checks</td>\n",
       "      <td>Completed the component or system test</td>\n",
       "      <td>2012-04-26</td>\n",
       "      <td>2014-02-27</td>\n",
       "      <td>NaN</td>\n",
       "      <td>NaN</td>\n",
       "      <td>NaN</td>\n",
       "      <td>Yes</td>\n",
       "      <td>NaN</td>\n",
       "      <td>NaN</td>\n",
       "      <td>NaN</td>\n",
       "    </tr>\n",
       "    <tr>\n",
       "      <th>2</th>\n",
       "      <td>0NGHY46WC8118581</td>\n",
       "      <td>42</td>\n",
       "      <td>11</td>\n",
       "      <td>0</td>\n",
       "      <td>N</td>\n",
       "      <td>Perform a periodic inspection</td>\n",
       "      <td>Completed the inspection</td>\n",
       "      <td>2012-04-26</td>\n",
       "      <td>2014-02-27</td>\n",
       "      <td>NaN</td>\n",
       "      <td>NaN</td>\n",
       "      <td>NaN</td>\n",
       "      <td>Yes</td>\n",
       "      <td>NaN</td>\n",
       "      <td>NaN</td>\n",
       "      <td>NaN</td>\n",
       "    </tr>\n",
       "    <tr>\n",
       "      <th>3</th>\n",
       "      <td>0NGHY47WC8118577</td>\n",
       "      <td>42</td>\n",
       "      <td>11</td>\n",
       "      <td>0</td>\n",
       "      <td>N</td>\n",
       "      <td>Perform a periodic inspection</td>\n",
       "      <td>Completed the inspection</td>\n",
       "      <td>2012-04-26</td>\n",
       "      <td>2014-02-27</td>\n",
       "      <td>NaN</td>\n",
       "      <td>NaN</td>\n",
       "      <td>NaN</td>\n",
       "      <td>Yes</td>\n",
       "      <td>NaN</td>\n",
       "      <td>NaN</td>\n",
       "      <td>NaN</td>\n",
       "    </tr>\n",
       "    <tr>\n",
       "      <th>4</th>\n",
       "      <td>0NGHY48WC8118586</td>\n",
       "      <td>42</td>\n",
       "      <td>11</td>\n",
       "      <td>0</td>\n",
       "      <td>N</td>\n",
       "      <td>Perform a periodic inspection</td>\n",
       "      <td>Completed the inspection</td>\n",
       "      <td>2012-04-26</td>\n",
       "      <td>2014-02-27</td>\n",
       "      <td>NaN</td>\n",
       "      <td>NaN</td>\n",
       "      <td>NaN</td>\n",
       "      <td>Yes</td>\n",
       "      <td>NaN</td>\n",
       "      <td>NaN</td>\n",
       "      <td>NaN</td>\n",
       "    </tr>\n",
       "  </tbody>\n",
       "</table>\n",
       "</div>"
      ],
      "text/plain": [
       "           Job Code  Aircraft  Transaction Code Malfunction Code  \\\n",
       "0  0NGHY44WC8118573        42                11                0   \n",
       "1  0NGHY45WC8118591        42                11                0   \n",
       "2  0NGHY46WC8118581        42                11                0   \n",
       "3  0NGHY47WC8118577        42                11                0   \n",
       "4  0NGHY48WC8118586        42                11                0   \n",
       "\n",
       "  Action Taken Code               Description of Problem  \\\n",
       "0                 N  Perform system or component checks    \n",
       "1                 N  Perform system or component checks    \n",
       "2                 N        Perform a periodic inspection   \n",
       "3                 N        Perform a periodic inspection   \n",
       "4                 N        Perform a periodic inspection   \n",
       "\n",
       "                    Correction of Problem Received Date Completion Date  \\\n",
       "0  Completed the component or system test    2012-04-26      2014-02-27   \n",
       "1  Completed the component or system test    2012-04-26      2014-02-27   \n",
       "2                Completed the inspection    2012-04-26      2014-02-27   \n",
       "3                Completed the inspection    2012-04-26      2014-02-27   \n",
       "4                Completed the inspection    2012-04-26      2014-02-27   \n",
       "\n",
       "  Corrosion Bare Metal Corrosion Prevention Treatment Routine Maintenance  \\\n",
       "0       NaN        NaN                            NaN                 Yes   \n",
       "1       NaN        NaN                            NaN                 Yes   \n",
       "2       NaN        NaN                            NaN                 Yes   \n",
       "3       NaN        NaN                            NaN                 Yes   \n",
       "4       NaN        NaN                            NaN                 Yes   \n",
       "\n",
       "  Unscheduled Maintenance Mission-Related Maintenance Failure  \n",
       "0                     NaN                         NaN     NaN  \n",
       "1                     NaN                         NaN     NaN  \n",
       "2                     NaN                         NaN     NaN  \n",
       "3                     NaN                         NaN     NaN  \n",
       "4                     NaN                         NaN     NaN  "
      ]
     },
     "execution_count": 5,
     "metadata": {},
     "output_type": "execute_result"
    }
   ],
   "source": [
    "maf_data.head()"
   ]
  },
  {
   "cell_type": "markdown",
   "metadata": {},
   "source": [
    "Drop rountine mainentance"
   ]
  },
  {
   "cell_type": "code",
   "execution_count": 6,
   "metadata": {},
   "outputs": [],
   "source": [
    "maf_data = maf_data[maf_data['Routine Maintenance'] != 'Yes']"
   ]
  },
  {
   "cell_type": "markdown",
   "metadata": {},
   "source": [
    "Adding field that indicates whether repair pertained to corrosion, grouping by aircraft and received date"
   ]
  },
  {
   "cell_type": "code",
   "execution_count": 7,
   "metadata": {},
   "outputs": [],
   "source": [
    "maf_data['corr_action'] = maf_data.groupby(['Aircraft', 'Received Date'])['Corrosion'].transform(lambda x: any(x == 'Yes'))"
   ]
  },
  {
   "cell_type": "code",
   "execution_count": 8,
   "metadata": {},
   "outputs": [
    {
     "data": {
      "text/plain": [
       "False    41521\n",
       "True      2625\n",
       "Name: corr_action, dtype: int64"
      ]
     },
     "execution_count": 8,
     "metadata": {},
     "output_type": "execute_result"
    }
   ],
   "source": [
    "maf_data[['Aircraft', 'Received Date', 'corr_action']].drop_duplicates()['corr_action'].value_counts()"
   ]
  },
  {
   "cell_type": "markdown",
   "metadata": {},
   "source": [
    "based on the value counts of the corr_action variable, we have a highly imbalanced dataset.  We will use upsampling/downsampling and adjust our evaluation metric (precison, F1) to deal with this imbalance"
   ]
  },
  {
   "cell_type": "markdown",
   "metadata": {},
   "source": [
    "Adding msp frequency to repair data"
   ]
  },
  {
   "cell_type": "code",
   "execution_count": 9,
   "metadata": {},
   "outputs": [
    {
     "data": {
      "text/html": [
       "<div>\n",
       "<style scoped>\n",
       "    .dataframe tbody tr th:only-of-type {\n",
       "        vertical-align: middle;\n",
       "    }\n",
       "\n",
       "    .dataframe tbody tr th {\n",
       "        vertical-align: top;\n",
       "    }\n",
       "\n",
       "    .dataframe thead th {\n",
       "        text-align: right;\n",
       "    }\n",
       "</style>\n",
       "<table border=\"1\" class=\"dataframe\">\n",
       "  <thead>\n",
       "    <tr style=\"text-align: right;\">\n",
       "      <th></th>\n",
       "      <th>Aircraft</th>\n",
       "      <th>Received Date</th>\n",
       "      <th>Completion Date</th>\n",
       "      <th>corr_action</th>\n",
       "    </tr>\n",
       "  </thead>\n",
       "  <tbody>\n",
       "    <tr>\n",
       "      <th>19</th>\n",
       "      <td>42</td>\n",
       "      <td>2012-04-26</td>\n",
       "      <td>2014-02-27</td>\n",
       "      <td>False</td>\n",
       "    </tr>\n",
       "    <tr>\n",
       "      <th>31</th>\n",
       "      <td>42</td>\n",
       "      <td>2012-04-26</td>\n",
       "      <td>2014-02-25</td>\n",
       "      <td>False</td>\n",
       "    </tr>\n",
       "    <tr>\n",
       "      <th>57</th>\n",
       "      <td>43</td>\n",
       "      <td>2012-09-13</td>\n",
       "      <td>2015-06-05</td>\n",
       "      <td>False</td>\n",
       "    </tr>\n",
       "    <tr>\n",
       "      <th>70</th>\n",
       "      <td>43</td>\n",
       "      <td>2012-09-13</td>\n",
       "      <td>2015-04-30</td>\n",
       "      <td>False</td>\n",
       "    </tr>\n",
       "    <tr>\n",
       "      <th>80</th>\n",
       "      <td>43</td>\n",
       "      <td>2012-09-14</td>\n",
       "      <td>2015-06-05</td>\n",
       "      <td>False</td>\n",
       "    </tr>\n",
       "  </tbody>\n",
       "</table>\n",
       "</div>"
      ],
      "text/plain": [
       "    Aircraft Received Date Completion Date  corr_action\n",
       "19        42    2012-04-26      2014-02-27        False\n",
       "31        42    2012-04-26      2014-02-25        False\n",
       "57        43    2012-09-13      2015-06-05        False\n",
       "70        43    2012-09-13      2015-04-30        False\n",
       "80        43    2012-09-14      2015-06-05        False"
      ]
     },
     "execution_count": 9,
     "metadata": {},
     "output_type": "execute_result"
    }
   ],
   "source": [
    "maf_corr = maf_data[['Aircraft', 'Received Date', 'Completion Date', 'corr_action']].drop_duplicates()\n",
    "\n",
    "maf_corr.head()"
   ]
  },
  {
   "cell_type": "markdown",
   "metadata": {},
   "source": [
    "For each Aircraft repair, we will add the frequncy of the MSP codes in the 30 days prior"
   ]
  },
  {
   "cell_type": "code",
   "execution_count": 20,
   "metadata": {},
   "outputs": [],
   "source": [
    "msp_corr_pre = []\n",
    "\n",
    "for repair in maf_corr.iterrows():\n",
    "    \n",
    "    # matching aircraft\n",
    "    \n",
    "    msp_subset = msp_data[['Aircraft', 'MSP', 'Fault Date']][msp_data['Aircraft'] == repair[1][0]]\n",
    "    \n",
    "    # filtering out MSP codes outside of 30-day window prior to repair\n",
    "    \n",
    "    msp_subset = msp_subset[(repair[1][1] - msp_subset['Fault Date'] < np.timedelta64(30, 'D')) & (repair[1][1] - msp_subset['Fault Date'] > np.timedelta64(0, 'D'))]\n",
    "    \n",
    "    # adding repair date and corrosion flag\n",
    "    \n",
    "    msp_subset['Repair Date'] = repair[1][1]\n",
    "    \n",
    "    msp_subset['Corrosion'] = repair[1][3]\n",
    "    \n",
    "    # counting freq of each MSP code\n",
    "    \n",
    "    msp_counts = msp_subset.groupby(['Aircraft', 'Repair Date', 'MSP', 'Corrosion']).size().reset_index(name='freq')\n",
    "    \n",
    "    msp_corr_pre.append(msp_counts)\n",
    "\n",
    "    \n",
    "msp_corr_pre = pd.concat(msp_corr_pre)\n"
   ]
  },
  {
   "cell_type": "code",
   "execution_count": 14,
   "metadata": {},
   "outputs": [
    {
     "data": {
      "text/html": [
       "<div>\n",
       "<style scoped>\n",
       "    .dataframe tbody tr th:only-of-type {\n",
       "        vertical-align: middle;\n",
       "    }\n",
       "\n",
       "    .dataframe tbody tr th {\n",
       "        vertical-align: top;\n",
       "    }\n",
       "\n",
       "    .dataframe thead th {\n",
       "        text-align: right;\n",
       "    }\n",
       "</style>\n",
       "<table border=\"1\" class=\"dataframe\">\n",
       "  <thead>\n",
       "    <tr style=\"text-align: right;\">\n",
       "      <th></th>\n",
       "      <th>Aircraft</th>\n",
       "      <th>Repair Date</th>\n",
       "      <th>MSP</th>\n",
       "      <th>Corrosion</th>\n",
       "      <th>freq</th>\n",
       "    </tr>\n",
       "  </thead>\n",
       "  <tbody>\n",
       "    <tr>\n",
       "      <th>0</th>\n",
       "      <td>42</td>\n",
       "      <td>4/26/12</td>\n",
       "      <td>FVFVJD</td>\n",
       "      <td>0</td>\n",
       "      <td>5</td>\n",
       "    </tr>\n",
       "    <tr>\n",
       "      <th>1</th>\n",
       "      <td>42</td>\n",
       "      <td>4/26/12</td>\n",
       "      <td>FVFVZJ</td>\n",
       "      <td>0</td>\n",
       "      <td>18</td>\n",
       "    </tr>\n",
       "    <tr>\n",
       "      <th>2</th>\n",
       "      <td>42</td>\n",
       "      <td>4/26/12</td>\n",
       "      <td>FVHPHP</td>\n",
       "      <td>0</td>\n",
       "      <td>111</td>\n",
       "    </tr>\n",
       "    <tr>\n",
       "      <th>3</th>\n",
       "      <td>42</td>\n",
       "      <td>4/26/12</td>\n",
       "      <td>FVHPMZ</td>\n",
       "      <td>0</td>\n",
       "      <td>2</td>\n",
       "    </tr>\n",
       "    <tr>\n",
       "      <th>4</th>\n",
       "      <td>42</td>\n",
       "      <td>4/26/12</td>\n",
       "      <td>FVHPZJ</td>\n",
       "      <td>0</td>\n",
       "      <td>2</td>\n",
       "    </tr>\n",
       "  </tbody>\n",
       "</table>\n",
       "</div>"
      ],
      "text/plain": [
       "   Aircraft Repair Date     MSP  Corrosion  freq\n",
       "0        42     4/26/12  FVFVJD          0     5\n",
       "1        42     4/26/12  FVFVZJ          0    18\n",
       "2        42     4/26/12  FVHPHP          0   111\n",
       "3        42     4/26/12  FVHPMZ          0     2\n",
       "4        42     4/26/12  FVHPZJ          0     2"
      ]
     },
     "execution_count": 14,
     "metadata": {},
     "output_type": "execute_result"
    }
   ],
   "source": [
    "msp_corr_pre.head()"
   ]
  },
  {
   "cell_type": "markdown",
   "metadata": {},
   "source": [
    "Saving pre frequencies to CSV"
   ]
  },
  {
   "cell_type": "code",
   "execution_count": 15,
   "metadata": {},
   "outputs": [],
   "source": [
    "msp_corr_pre.to_csv('../../HTM_data/msp_freq_pre.csv', index = False)"
   ]
  },
  {
   "cell_type": "markdown",
   "metadata": {},
   "source": [
    "Convert Corrosion to T/F"
   ]
  },
  {
   "cell_type": "code",
   "execution_count": 30,
   "metadata": {},
   "outputs": [],
   "source": [
    "msp_corr_pre['Corrosion'] = msp_corr_pre['Corrosion'] == 1.0"
   ]
  },
  {
   "cell_type": "markdown",
   "metadata": {},
   "source": [
    "Convert Aircraft to Category"
   ]
  },
  {
   "cell_type": "code",
   "execution_count": 31,
   "metadata": {},
   "outputs": [],
   "source": [
    "msp_corr_pre['Aircraft'] = msp_corr_pre['Aircraft'].astype('category')"
   ]
  },
  {
   "cell_type": "markdown",
   "metadata": {},
   "source": [
    "Adding pre marker to frequency"
   ]
  },
  {
   "cell_type": "code",
   "execution_count": 32,
   "metadata": {},
   "outputs": [],
   "source": [
    "msp_corr_pre.rename(columns = {'freq': 'pre_freq'}, inplace = True)"
   ]
  },
  {
   "cell_type": "markdown",
   "metadata": {},
   "source": [
    "Based on SME input, the MSP codes we should focus on when building a predictive model typically stop appearing when an action for corrosion has been taken.  Therefore we will estimate mean frequncy before and after a corrosion repair for all MSP codes, and then focus the top 20 MSP codes with the largest decrease post-maintenance action.\n",
    "\n",
    "First we will gather the frequncey of MSP codes 30-days post corrosion maintenance action, as we have already done so for the 30-day prio window."
   ]
  },
  {
   "cell_type": "code",
   "execution_count": 19,
   "metadata": {},
   "outputs": [],
   "source": [
    "msp_corr_post = []\n",
    "\n",
    "for repair in maf_corr.iterrows():\n",
    "    \n",
    "    # matching aircraft\n",
    "    \n",
    "    msp_subset = msp_data[['Aircraft', 'MSP', 'Fault Date']][msp_data['Aircraft'] == repair[1][0]]\n",
    "    \n",
    "    # filtering out MSP codes outside of 30-day window after Completion\n",
    "    \n",
    "    msp_subset = msp_subset[(repair[1][2] - msp_subset['Fault Date'] < np.timedelta64(30, 'D')) & (repair[1][2] - msp_subset['Fault Date'] < np.timedelta64(0, 'D'))]\n",
    "    \n",
    "    # adding repair date and corrosion flag\n",
    "    \n",
    "    msp_subset['Repair Date'] = repair[1][1]\n",
    "    \n",
    "    msp_subset['Corrosion'] = repair[1][3]\n",
    "    \n",
    "    # counting freq of each MSP code\n",
    "    \n",
    "    msp_counts = msp_subset.groupby(['Aircraft', 'Repair Date', 'MSP', 'Corrosion']).size().reset_index(name='freq')\n",
    "    \n",
    "    msp_corr_post.append(msp_counts)\n",
    "\n",
    "    \n",
    "msp_corr_post = pd.concat(msp_corr_post)"
   ]
  },
  {
   "cell_type": "markdown",
   "metadata": {},
   "source": [
    "Saving post frequncies to CSV"
   ]
  },
  {
   "cell_type": "code",
   "execution_count": 20,
   "metadata": {},
   "outputs": [],
   "source": [
    "msp_corr_post.to_csv('../../HTM_data/msp_freq_post.csv', index = False)"
   ]
  },
  {
   "cell_type": "markdown",
   "metadata": {},
   "source": [
    "Convert Corrosion to T/F"
   ]
  },
  {
   "cell_type": "code",
   "execution_count": 23,
   "metadata": {},
   "outputs": [],
   "source": [
    "msp_corr_post['Corrosion'] = msp_corr_post['Corrosion'] == 1.0"
   ]
  },
  {
   "cell_type": "markdown",
   "metadata": {},
   "source": [
    "Convert Aircraft to Category"
   ]
  },
  {
   "cell_type": "code",
   "execution_count": 24,
   "metadata": {},
   "outputs": [],
   "source": [
    "msp_corr_post['Aircraft'] = msp_corr_post['Aircraft'].astype('category')"
   ]
  },
  {
   "cell_type": "markdown",
   "metadata": {},
   "source": [
    "Adding post marker to frequency"
   ]
  },
  {
   "cell_type": "code",
   "execution_count": 25,
   "metadata": {},
   "outputs": [],
   "source": [
    "msp_corr_post.rename(columns = {'freq': 'post_freq'}, inplace = True)"
   ]
  },
  {
   "cell_type": "markdown",
   "metadata": {},
   "source": [
    "Merging pre/post frequencies"
   ]
  },
  {
   "cell_type": "code",
   "execution_count": 39,
   "metadata": {},
   "outputs": [],
   "source": [
    "msp_pre_post = msp_corr_post.merge(msp_corr_pre, on = ['Aircraft', 'Repair Date', 'MSP', 'Corrosion'])"
   ]
  },
  {
   "cell_type": "markdown",
   "metadata": {},
   "source": [
    "Saving pre/post frequncies to CSV"
   ]
  },
  {
   "cell_type": "code",
   "execution_count": 40,
   "metadata": {},
   "outputs": [],
   "source": [
    "msp_pre_post.to_csv('../../HTM_data/msp_pre_post.csv', index = False)"
   ]
  },
  {
   "cell_type": "markdown",
   "metadata": {},
   "source": [
    "Estimating change in frequency after repair"
   ]
  },
  {
   "cell_type": "code",
   "execution_count": 42,
   "metadata": {},
   "outputs": [],
   "source": [
    "msp_pre_post['per_change'] = (msp_pre_post['post_freq'] - msp_pre_post['pre_freq']) / msp_pre_post['pre_freq']"
   ]
  },
  {
   "cell_type": "markdown",
   "metadata": {},
   "source": [
    "Selecting to top 20 MSP codes with the largest average decrease in frequency post a Corrosion repair"
   ]
  },
  {
   "cell_type": "code",
   "execution_count": 56,
   "metadata": {},
   "outputs": [],
   "source": [
    "msp_preds = msp_pre_post[msp_pre_post['Corrosion'] == True].groupby('MSP').agg({'per_change': 'mean'}).sort_values('per_change').head(20).index"
   ]
  },
  {
   "cell_type": "markdown",
   "metadata": {},
   "source": [
    "Filtering MSP codes of interest"
   ]
  },
  {
   "cell_type": "code",
   "execution_count": 65,
   "metadata": {},
   "outputs": [],
   "source": [
    "msp_corr_pre = msp_corr_pre[msp_corr_pre['MSP'].isin(msp_preds)].reset_index(drop=True)"
   ]
  },
  {
   "cell_type": "code",
   "execution_count": 67,
   "metadata": {},
   "outputs": [
    {
     "data": {
      "text/html": [
       "<div>\n",
       "<style scoped>\n",
       "    .dataframe tbody tr th:only-of-type {\n",
       "        vertical-align: middle;\n",
       "    }\n",
       "\n",
       "    .dataframe tbody tr th {\n",
       "        vertical-align: top;\n",
       "    }\n",
       "\n",
       "    .dataframe thead th {\n",
       "        text-align: right;\n",
       "    }\n",
       "</style>\n",
       "<table border=\"1\" class=\"dataframe\">\n",
       "  <thead>\n",
       "    <tr style=\"text-align: right;\">\n",
       "      <th></th>\n",
       "      <th>Aircraft</th>\n",
       "      <th>Repair Date</th>\n",
       "      <th>MSP</th>\n",
       "      <th>Corrosion</th>\n",
       "      <th>pre_freq</th>\n",
       "    </tr>\n",
       "  </thead>\n",
       "  <tbody>\n",
       "    <tr>\n",
       "      <th>0</th>\n",
       "      <td>42</td>\n",
       "      <td>2012-04-26</td>\n",
       "      <td>FVXUMQ</td>\n",
       "      <td>False</td>\n",
       "      <td>1</td>\n",
       "    </tr>\n",
       "    <tr>\n",
       "      <th>1</th>\n",
       "      <td>43</td>\n",
       "      <td>2015-05-06</td>\n",
       "      <td>MZZJHP</td>\n",
       "      <td>False</td>\n",
       "      <td>2</td>\n",
       "    </tr>\n",
       "    <tr>\n",
       "      <th>2</th>\n",
       "      <td>43</td>\n",
       "      <td>2015-05-07</td>\n",
       "      <td>MZZJHP</td>\n",
       "      <td>False</td>\n",
       "      <td>2</td>\n",
       "    </tr>\n",
       "    <tr>\n",
       "      <th>3</th>\n",
       "      <td>43</td>\n",
       "      <td>2015-05-08</td>\n",
       "      <td>MZZJHP</td>\n",
       "      <td>False</td>\n",
       "      <td>2</td>\n",
       "    </tr>\n",
       "    <tr>\n",
       "      <th>4</th>\n",
       "      <td>43</td>\n",
       "      <td>2015-05-09</td>\n",
       "      <td>MZZJHP</td>\n",
       "      <td>False</td>\n",
       "      <td>2</td>\n",
       "    </tr>\n",
       "  </tbody>\n",
       "</table>\n",
       "</div>"
      ],
      "text/plain": [
       "  Aircraft Repair Date     MSP  Corrosion  pre_freq\n",
       "0       42  2012-04-26  FVXUMQ      False         1\n",
       "1       43  2015-05-06  MZZJHP      False         2\n",
       "2       43  2015-05-07  MZZJHP      False         2\n",
       "3       43  2015-05-08  MZZJHP      False         2\n",
       "4       43  2015-05-09  MZZJHP      False         2"
      ]
     },
     "execution_count": 67,
     "metadata": {},
     "output_type": "execute_result"
    }
   ],
   "source": [
    "msp_corr_pre.head()"
   ]
  },
  {
   "cell_type": "code",
   "execution_count": 69,
   "metadata": {},
   "outputs": [],
   "source": [
    "msp_corr_pre = msp_corr_pre.drop_duplicates(['Aircraft', 'Repair Date', 'Corrosion'])"
   ]
  },
  {
   "cell_type": "code",
   "execution_count": 70,
   "metadata": {},
   "outputs": [],
   "source": [
    "msp_prediction = msp_corr_pre.pivot_table(index = ['Aircraft', 'Repair Date', 'Corrosion'], columns = 'MSP', values = 'pre_freq', fill_value = 0).reset_index()"
   ]
  },
  {
   "cell_type": "markdown",
   "metadata": {},
   "source": [
    "Save MSP count file to csv"
   ]
  },
  {
   "cell_type": "code",
   "execution_count": 73,
   "metadata": {},
   "outputs": [],
   "source": [
    "msp_prediction.to_csv('../../HTM_data/htm_predict.csv', index = False)"
   ]
  },
  {
   "cell_type": "markdown",
   "metadata": {},
   "source": [
    "Selecting the first 25 aircrafts to train, last 20 to test"
   ]
  },
  {
   "cell_type": "code",
   "execution_count": 107,
   "metadata": {},
   "outputs": [],
   "source": [
    "train_data = msp_prediction[msp_prediction['Aircraft'].isin(range(26))]\n",
    "\n",
    "x_train = train_data.drop(['Aircraft', 'Repair Date', 'Corrosion'], axis=1)\n",
    "y_train = train_data['Corrosion']\n",
    "\n",
    "test_data = msp_prediction[msp_prediction['Aircraft'].isin(range(26,46))]\n",
    "\n",
    "x_test = test_data.drop(['Aircraft', 'Repair Date', 'Corrosion'], axis=1)\n",
    "y_test = test_data['Corrosion']"
   ]
  },
  {
   "cell_type": "markdown",
   "metadata": {},
   "source": [
    "### Ridge Logistic Regression Model"
   ]
  },
  {
   "cell_type": "code",
   "execution_count": 108,
   "metadata": {},
   "outputs": [],
   "source": [
    "from sklearn.linear_model import LogisticRegressionCV\n",
    "from sklearn.metrics import confusion_matrix, accuracy_score\n",
    "\n",
    "# ignore convergance warnings\n",
    "from warnings import filterwarnings\n",
    "filterwarnings('ignore')"
   ]
  },
  {
   "cell_type": "markdown",
   "metadata": {},
   "source": [
    "Fitting model "
   ]
  },
  {
   "cell_type": "code",
   "execution_count": 113,
   "metadata": {},
   "outputs": [],
   "source": [
    "ridge = LogisticRegressionCV(penalty='l2', class_weight='balanced', cv = 5, max_iter=2500).fit(x_train, y_train)"
   ]
  },
  {
   "cell_type": "code",
   "execution_count": 114,
   "metadata": {},
   "outputs": [
    {
     "data": {
      "text/plain": [
       "0.449"
      ]
     },
     "execution_count": 114,
     "metadata": {},
     "output_type": "execute_result"
    }
   ],
   "source": [
    "accuracy_score(y_test, ridge.predict(x_test)).round(3)"
   ]
  },
  {
   "cell_type": "code",
   "execution_count": 115,
   "metadata": {},
   "outputs": [
    {
     "data": {
      "text/plain": [
       "array([[206, 255],\n",
       "       [  5,   6]])"
      ]
     },
     "execution_count": 115,
     "metadata": {},
     "output_type": "execute_result"
    }
   ],
   "source": [
    "confusion_matrix(y_test, ridge.predict(x_test))"
   ]
  },
  {
   "cell_type": "markdown",
   "metadata": {},
   "source": [
    "### XGBoost"
   ]
  },
  {
   "cell_type": "code",
   "execution_count": 128,
   "metadata": {},
   "outputs": [],
   "source": [
    "from sklearn.ensemble import GradientBoostingClassifier"
   ]
  },
  {
   "cell_type": "code",
   "execution_count": 155,
   "metadata": {},
   "outputs": [],
   "source": [
    "xgb = GradientBoostingClassifier(loss = 'deviance', n_estimators=10000, learning_rate=0.01, max_depth=10).fit(x_train, y_train)"
   ]
  },
  {
   "cell_type": "code",
   "execution_count": 156,
   "metadata": {},
   "outputs": [
    {
     "data": {
      "text/plain": [
       "0.977"
      ]
     },
     "execution_count": 156,
     "metadata": {},
     "output_type": "execute_result"
    }
   ],
   "source": [
    "accuracy_score(y_test, xgb.predict(x_test)).round(3)"
   ]
  },
  {
   "cell_type": "code",
   "execution_count": 157,
   "metadata": {},
   "outputs": [
    {
     "data": {
      "text/plain": [
       "array([[461,   0],\n",
       "       [ 11,   0]])"
      ]
     },
     "execution_count": 157,
     "metadata": {},
     "output_type": "execute_result"
    }
   ],
   "source": [
    "confusion_matrix(y_test, xgb.predict(x_test))"
   ]
  },
  {
   "cell_type": "markdown",
   "metadata": {},
   "source": [
    "Given the XGBoost classifier is classifying only negative cases, we will need to upsample/downsample or investigate with MSP codes should be used for prediction"
   ]
  },
  {
   "cell_type": "markdown",
   "metadata": {},
   "source": [
    "### Random Forest"
   ]
  },
  {
   "cell_type": "code",
   "execution_count": 116,
   "metadata": {},
   "outputs": [],
   "source": [
    "from sklearn.ensemble import RandomForestRegressor"
   ]
  },
  {
   "cell_type": "code",
   "execution_count": 117,
   "metadata": {},
   "outputs": [],
   "source": [
    "rf = RandomForestRegressor(n_estimators = 1000, random_state = 42).fit(x_train, y_train)"
   ]
  },
  {
   "cell_type": "code",
   "execution_count": 124,
   "metadata": {},
   "outputs": [
    {
     "data": {
      "text/plain": [
       "0.82"
      ]
     },
     "execution_count": 124,
     "metadata": {},
     "output_type": "execute_result"
    }
   ],
   "source": [
    "accuracy_score(y_test, rf.predict(x_test) > 0.1).round(3)"
   ]
  },
  {
   "cell_type": "code",
   "execution_count": 126,
   "metadata": {},
   "outputs": [
    {
     "data": {
      "text/plain": [
       "array([[386,  75],\n",
       "       [ 10,   1]])"
      ]
     },
     "execution_count": 126,
     "metadata": {},
     "output_type": "execute_result"
    }
   ],
   "source": [
    "confusion_matrix(y_test, rf.predict(x_test) > 0.1)"
   ]
  }
 ],
 "metadata": {
  "kernelspec": {
   "display_name": "Python 3",
   "language": "python",
   "name": "python3"
  },
  "language_info": {
   "codemirror_mode": {
    "name": "ipython",
    "version": 3
   },
   "file_extension": ".py",
   "mimetype": "text/x-python",
   "name": "python",
   "nbconvert_exporter": "python",
   "pygments_lexer": "ipython3",
   "version": "3.7.5"
  }
 },
 "nbformat": 4,
 "nbformat_minor": 4
}
